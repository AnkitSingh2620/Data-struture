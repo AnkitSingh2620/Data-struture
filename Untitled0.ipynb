{
  "nbformat": 4,
  "nbformat_minor": 0,
  "metadata": {
    "colab": {
      "name": "Untitled0.ipynb",
      "provenance": [],
      "history_visible": true,
      "authorship_tag": "ABX9TyN7hpWMd8Khfh4I+rZjJC9A",
      "include_colab_link": true
    },
    "kernelspec": {
      "name": "python3",
      "display_name": "Python 3"
    },
    "language_info": {
      "name": "python"
    }
  },
  "cells": [
    {
      "cell_type": "markdown",
      "metadata": {
        "id": "view-in-github",
        "colab_type": "text"
      },
      "source": [
        "<a href=\"https://colab.research.google.com/github/Mrmahi11/Data-struture/blob/main/Untitled0.ipynb\" target=\"_parent\"><img src=\"https://colab.research.google.com/assets/colab-badge.svg\" alt=\"Open In Colab\"/></a>"
      ]
    },
    {
      "cell_type": "code",
      "execution_count": null,
      "metadata": {
        "id": "fZIVvC5ETXqA"
      },
      "outputs": [],
      "source": [
        ""
      ]
    },
    {
      "cell_type": "code",
      "source": [
        "import numpy as np\n",
        "import pandas as pd\n",
        "myindex=['usa','canada','mexico']\n",
        "mydata=[1122,3322,1212]\n",
        "myser = pd.Series(data=mydata,index=myindex)\n",
        "print(myser)\n",
        "ran_data = np.random.randint(20,37,33)\n",
        "print(ran_data)\n",
        "names = ['ram',\"aman\",\"abhay\"]\n",
        "print(names)\n",
        "age = {'aman':5,\"abhay\":15,\"amar\":22}\n",
        "age1 = {'aman':15,\"abhay\":25,\"amar\":32}\n",
        "Sales_age = pd.Series(age)\n",
        "Sales_age1 = pd.Series(age1)\n",
        "print(Sales_age)\n",
        "print(Sales_age[0])\n",
        "print(Sales_age1[1])\n",
        "\n",
        "\n",
        "\n",
        "\n",
        "\n",
        "\n",
        "\n",
        "\n"
      ],
      "metadata": {
        "colab": {
          "base_uri": "https://localhost:8080/",
          "height": 130
        },
        "id": "zz13HfpSTaUa",
        "outputId": "46417339-b19d-47a2-fb8e-554c113a4ecd"
      },
      "execution_count": 21,
      "outputs": [
        {
          "output_type": "error",
          "ename": "SyntaxError",
          "evalue": "ignored",
          "traceback": [
            "\u001b[0;36m  File \u001b[0;32m\"<ipython-input-21-974749bc4789>\"\u001b[0;36m, line \u001b[0;32m18\u001b[0m\n\u001b[0;31m    s = Sales_age.key[]\u001b[0m\n\u001b[0m                      ^\u001b[0m\n\u001b[0;31mSyntaxError\u001b[0m\u001b[0;31m:\u001b[0m invalid syntax\n"
          ]
        }
      ]
    },
    {
      "cell_type": "code",
      "source": [
        "import numpy as np\n",
        "import pandas as pd\n",
        "\n",
        "\n",
        "\n",
        "\n",
        "\n",
        "\n",
        "\n",
        "\n",
        "\n",
        "\n",
        "\n",
        "\n",
        "\n",
        "\n"
      ],
      "metadata": {
        "id": "C4fixKnWZRQz"
      },
      "execution_count": null,
      "outputs": []
    }
  ]
}